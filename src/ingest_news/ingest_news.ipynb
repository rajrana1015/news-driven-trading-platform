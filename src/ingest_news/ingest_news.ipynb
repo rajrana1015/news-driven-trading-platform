{
 "cells": [
  {
   "cell_type": "code",
   "execution_count": 13,
   "id": "71a2eb4f",
   "metadata": {},
   "outputs": [],
   "source": [
    "from datetime import datetime, timedelta,date\n",
    "import os\n",
    "import requests\n",
    "import pandas as pd\n"
   ]
  },
  {
   "cell_type": "code",
   "execution_count": 14,
   "id": "36775fdc",
   "metadata": {},
   "outputs": [
    {
     "name": "stdout",
     "output_type": "stream",
     "text": [
      "2025-01-01 , 2025-01-30\n",
      "2025-01-31 , 2025-03-01\n",
      "2025-03-02 , 2025-03-31\n",
      "2025-04-01 , 2025-04-30\n",
      "2025-05-01 , 2025-05-28\n",
      "[['2025-01-01', '2025-01-30'], ['2025-01-31', '2025-03-01'], ['2025-03-02', '2025-03-31'], ['2025-04-01', '2025-04-30'], ['2025-05-01', '2025-05-28']]\n"
     ]
    }
   ],
   "source": [
    "def make_30d_windows(start_str, end_str):\n",
    "    windows = []\n",
    "    while start_str <= end_str:\n",
    "        slice_end = min(start_str + timedelta(days=29), end_str)\n",
    "        windows.append((start_str, slice_end))\n",
    "        start_str = slice_end + timedelta(days=1)\n",
    "\n",
    "    return windows\n",
    "\n",
    "current_datetime = datetime.now()\n",
    "current_date = current_datetime.date()\n",
    "start_date=date(current_date.year, 1, 1)\n",
    "fm_to=[]\n",
    "for frm, to in make_30d_windows(start_date,current_date):\n",
    "    print(frm,\",\", to)\n",
    "    fm_to.append([str(frm),str(to)])\n",
    "print(fm_to)"
   ]
  },
  {
   "cell_type": "code",
   "execution_count": 15,
   "id": "6d441381",
   "metadata": {},
   "outputs": [],
   "source": [
    "\n",
    "# Fetch data from Finnhub\n",
    "\n",
    "API_KEY = \"d0r5dnpr01qn4tjgj5bgd0r5dnpr01qn4tjgj5c0\"\n",
    "url = \"https://finnhub.io/api/v1/company-news\"\n",
    "with open('../../config/symbols.txt', 'r') as file:\n",
    "    symbols = file.readlines()\n",
    "\n",
    "for symbol in symbols:\n",
    "    ticker=symbol.strip()\n",
    "    for date in fm_to:    \n",
    "        params = {\n",
    "            \"symbol\": ticker,\n",
    "            \"from\": date[0],\n",
    "            \"to\": date[1],\n",
    "            \"token\": API_KEY\n",
    "        }\n",
    "        response = requests.get(url, params=params)\n",
    "        news_data = response.json()\n",
    "        # Normalize JSON into a pandas DataFrame\n",
    "        df = pd.json_normalize(news_data)\n",
    "        os.makedirs(f\"../../data/raw/news/{ticker}\", exist_ok=True)\n",
    "        df.to_csv(f\"../../data/raw/news/{ticker}/{ticker}{date[0]}_{date[1]}.csv\", index=False)\n",
    "\n"
   ]
  },
  {
   "cell_type": "code",
   "execution_count": 16,
   "id": "ae8e83a0",
   "metadata": {},
   "outputs": [
    {
     "data": {
      "text/html": [
       "<div>\n",
       "<style scoped>\n",
       "    .dataframe tbody tr th:only-of-type {\n",
       "        vertical-align: middle;\n",
       "    }\n",
       "\n",
       "    .dataframe tbody tr th {\n",
       "        vertical-align: top;\n",
       "    }\n",
       "\n",
       "    .dataframe thead th {\n",
       "        text-align: right;\n",
       "    }\n",
       "</style>\n",
       "<table border=\"1\" class=\"dataframe\">\n",
       "  <thead>\n",
       "    <tr style=\"text-align: right;\">\n",
       "      <th></th>\n",
       "      <th>error</th>\n",
       "    </tr>\n",
       "  </thead>\n",
       "  <tbody>\n",
       "    <tr>\n",
       "      <th>0</th>\n",
       "      <td>API limit reached. Please try again later. Rem...</td>\n",
       "    </tr>\n",
       "  </tbody>\n",
       "</table>\n",
       "</div>"
      ],
      "text/plain": [
       "                                               error\n",
       "0  API limit reached. Please try again later. Rem..."
      ]
     },
     "execution_count": 16,
     "metadata": {},
     "output_type": "execute_result"
    }
   ],
   "source": [
    "df"
   ]
  },
  {
   "cell_type": "code",
   "execution_count": null,
   "id": "9bccee94",
   "metadata": {},
   "outputs": [],
   "source": []
  },
  {
   "cell_type": "code",
   "execution_count": null,
   "id": "2d076ec5",
   "metadata": {},
   "outputs": [],
   "source": []
  }
 ],
 "metadata": {
  "kernelspec": {
   "display_name": ".venv",
   "language": "python",
   "name": "python3"
  },
  "language_info": {
   "codemirror_mode": {
    "name": "ipython",
    "version": 3
   },
   "file_extension": ".py",
   "mimetype": "text/x-python",
   "name": "python",
   "nbconvert_exporter": "python",
   "pygments_lexer": "ipython3",
   "version": "3.11.9"
  }
 },
 "nbformat": 4,
 "nbformat_minor": 5
}
